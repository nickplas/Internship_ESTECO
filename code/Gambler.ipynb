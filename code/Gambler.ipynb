{
 "cells": [
  {
   "cell_type": "markdown",
   "metadata": {},
   "source": [
    "# Gambler's Problem"
   ]
  },
  {
   "cell_type": "markdown",
   "metadata": {},
   "source": [
    "Game: coin flip\n",
    "\n",
    "Reward: wins as many dollars as he has staked\n",
    "\n",
    "The game ends when the gambler reaches 100$ or he loses everything.\n",
    "\n",
    "Value Iteration algorithm will be used in this problem to obtain the optimal policy."
   ]
  },
  {
   "cell_type": "code",
   "execution_count": 1,
   "metadata": {},
   "outputs": [],
   "source": [
    "import numpy as np\n",
    "import matplotlib.pyplot as plt"
   ]
  },
  {
   "cell_type": "code",
   "execution_count": 9,
   "metadata": {},
   "outputs": [],
   "source": [
    "def value_iteration(theta, states, v, reward, prob, policy, gamma):\n",
    "    i = 0\n",
    "    while True:\n",
    "        delta = []\n",
    "        i +=1\n",
    "        for s in states[1:]:\n",
    "            old = v[s]\n",
    "            v, a = max_action(s,prob, reward, v, gamma)\n",
    "            tmp = abs(old-v[s])\n",
    "            delta.append(tmp)\n",
    "            policy[s] = a\n",
    "        if np.all(delta < theta) or i >5000:\n",
    "            return policy, v"
   ]
  },
  {
   "cell_type": "code",
   "execution_count": 3,
   "metadata": {},
   "outputs": [],
   "source": [
    "def max_action(s, p, r, v, gamma):\n",
    "    max_v = 0\n",
    "    action = 0\n",
    "    for i in range(0,min(s,100-s)+1):\n",
    "        update = p * (r[s+i] + gamma * v[s+i]) + (1 - p) * (r[s-i] + gamma * v[s-i])\n",
    "        if update >= max_v:\n",
    "            max_v = update\n",
    "            v[s] = update\n",
    "            action = i\n",
    "    return v, action"
   ]
  },
  {
   "cell_type": "code",
   "execution_count": 7,
   "metadata": {},
   "outputs": [
    {
     "name": "stdout",
     "output_type": "stream",
     "text": [
      "[ 0.  1.  2.  3.  4.  5.  6.  7.  8.  9. 10. 11. 12. 13. 14. 15. 16. 17.\n",
      " 18. 19. 20. 21. 22. 23. 24. 25. 26. 27. 28. 29. 30. 31. 32. 33. 34. 35.\n",
      " 36. 37. 38. 39. 40. 41. 42. 43. 44. 45. 46. 47. 48.  1. 50. 49. 48. 47.\n",
      " 46. 45. 44. 43. 42. 41. 40. 39. 38. 37. 36. 35. 34. 33. 32. 31. 30. 29.\n",
      " 28. 27. 26. 25. 24. 23. 22. 21. 20. 19. 18. 17. 16. 15. 14. 13. 12. 11.\n",
      " 10.  9.  8.  7.  6.  5.  4.  3.  2.  1.  0.]\n"
     ]
    }
   ],
   "source": [
    "#variables\n",
    "theta = np.repeat(0.1, 100)\n",
    "states = list(range(101))\n",
    "v = np.zeros(101)\n",
    "reward = np.zeros(len(states))\n",
    "reward[100] = 1\n",
    "policy = np.zeros(101)\n",
    "p , v= value_iteration(theta, states, v, reward, 0.4, policy, 1)\n",
    "print(p)"
   ]
  },
  {
   "cell_type": "code",
   "execution_count": 8,
   "metadata": {},
   "outputs": [
    {
     "data": {
      "image/png": "[encoded data removed]",
      "text/plain": [
       "<Figure size 432x288 with 1 Axes>"
      ]
     },
     "metadata": {
      "needs_background": "light"
     },
     "output_type": "display_data"
    }
   ],
   "source": [
    "plt.plot(p, 'o')\n",
    "plt.show()"
   ]
  },
  {
   "cell_type": "code",
   "execution_count": 10,
   "metadata": {},
   "outputs": [
    {
     "data": {
      "image/png": "[encoded data removed]",
      "text/plain": [
       "<Figure size 432x288 with 1 Axes>"
      ]
     },
     "metadata": {
      "needs_background": "light"
     },
     "output_type": "display_data"
    }
   ],
   "source": [
    "plt.plot(v)\n",
    "plt.show()"
   ]
  }
 ],
 "metadata": {
  "kernelspec": {
   "display_name": "Python 3",
   "language": "python",
   "name": "python3"
  },
  "language_info": {
   "codemirror_mode": {
    "name": "ipython",
    "version": 3
   },
   "file_extension": ".py",
   "mimetype": "text/x-python",
   "name": "python",
   "nbconvert_exporter": "python",
   "pygments_lexer": "ipython3",
   "version": "3.8.5"
  }
 },
 "nbformat": 4,
 "nbformat_minor": 4
}
