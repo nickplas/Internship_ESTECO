{
 "cells": [
  {
   "cell_type": "code",
   "execution_count": 1,
   "metadata": {},
   "outputs": [],
   "source": [
    "import numpy as np\n",
    "import networkx as nx\n",
    "import matplotlib.pyplot as plt"
   ]
  },
  {
   "cell_type": "code",
   "execution_count": 2,
   "metadata": {},
   "outputs": [],
   "source": [
    "def reward_rules(position, action, terminal, states):\n",
    "    if position in terminal:\n",
    "        return position, 0\n",
    "    new_position = np.array(position) + np.array(action)\n",
    "    n_p = new_position.tolist()\n",
    "    if n_p not in states:\n",
    "        return position, 0\n",
    "    else:\n",
    "        return new_position, -1\n",
    "\n",
    "def policy_evaluation(ValueFunction, states, actions, gamma, theta):\n",
    "    while True:\n",
    "        v = np.copy(ValueFunction)\n",
    "        delta = []\n",
    "        for s in states:\n",
    "            update = 0\n",
    "            for a in actions:\n",
    "                new_position, r = reward_rules(s, a, terminal, states)\n",
    "                update += (1/len(actions))*(r+(gamma*ValueFunction[new_position[0], new_position[1]]))\n",
    "            delta.append(np.abs(v[s[0], s[1]]- update))\n",
    "            v[s[0], s[1]] = update\n",
    "        ValueFunction = v\n",
    "        if np.all(delta < theta):\n",
    "            return ValueFunction"
   ]
  },
  {
   "cell_type": "code",
   "execution_count": 3,
   "metadata": {},
   "outputs": [
    {
     "data": {
      "text/plain": [
       "array([[ 0.        , -2.64738823, -3.2887737 , -3.02471331],\n",
       "       [-2.64738823, -3.55283409, -3.7360382 , -3.2887737 ],\n",
       "       [-3.2887737 , -3.7360382 , -3.55283409, -2.64738823],\n",
       "       [-3.02471331, -3.2887737 , -2.64738823,  0.        ]])"
      ]
     },
     "execution_count": 3,
     "metadata": {},
     "output_type": "execute_result"
    }
   ],
   "source": [
    "gamma = 0.8\n",
    "gridSize = 4\n",
    "terminal = [[0,0], [gridSize-1, gridSize-1]]\n",
    "actions = [[-1, 0], [1, 0], [0, 1], [0, -1]]\n",
    "states = [[i, j] for i in range(gridSize) for j in range(gridSize)]\n",
    "theta = np.repeat(0.001, 16)\n",
    "V = np.zeros((gridSize, gridSize))\n",
    "\n",
    "nV = policy_evaluation(V, states, actions, gamma, theta)\n",
    "nV"
   ]
  },
  {
   "cell_type": "code",
   "execution_count": 4,
   "metadata": {},
   "outputs": [],
   "source": [
    "def random_policy(states, actions):\n",
    "    policy = {} \n",
    "    for s in states:\n",
    "        rand_action = np.random.choice(len(actions))\n",
    "        policy['{}'.format(s)] = actions[rand_action]\n",
    "    return policy"
   ]
  },
  {
   "cell_type": "code",
   "execution_count": 5,
   "metadata": {},
   "outputs": [],
   "source": [
    "def available_actions(state, actions, gridSize):\n",
    "    a = actions.copy()\n",
    "    if state[0] == 0:\n",
    "        a.remove([-1,0])\n",
    "    if state[0] == gridSize-1:\n",
    "        a.remove([1,0])\n",
    "    if state[1] == 0:\n",
    "        a.remove([0,-1])\n",
    "    if state[1] == gridSize-1:\n",
    "        a.remove([0,1])\n",
    "    #print(state, a)\n",
    "    return a"
   ]
  },
  {
   "cell_type": "code",
   "execution_count": 6,
   "metadata": {},
   "outputs": [],
   "source": [
    "def policy_improvement(states, policy, actions, terminal, ValueFunction):\n",
    "    stable = np.repeat(True, len(states))\n",
    "    i = 0\n",
    "    for s in states:\n",
    "        old_action = policy['{}'.format(s)]\n",
    "        action_pool = available_actions(s, actions, gridSize)\n",
    "        if s in terminal:\n",
    "            max_a = [0,0]\n",
    "        else:\n",
    "            max_a = action_pool[0]\n",
    "        max_pos, max_r = reward_rules(s, max_a, terminal, states)\n",
    "        max_action = (max_r+(gamma*ValueFunction[max_pos[0], max_pos[1]]))\n",
    "        \n",
    "        for a in action_pool:#actions:\n",
    "            new_position, r = reward_rules(s, a, terminal, states)           \n",
    "            value_action = (r+(gamma*ValueFunction[new_position[0], new_position[1]]))\n",
    "            if np.all(max_action < value_action):\n",
    "                max_a = a\n",
    "        policy['{}'.format(s)] = max_a\n",
    "        if np.any(old_action != policy['{}'.format(s)]):\n",
    "            stable[i] = False\n",
    "        i += 1\n",
    "    return policy, stable "
   ]
  },
  {
   "cell_type": "code",
   "execution_count": 7,
   "metadata": {},
   "outputs": [],
   "source": [
    "def policy_iteration(gridSize, states, actions, gamma, theta, terminal):\n",
    "    V = np.zeros((gridSize, gridSize))\n",
    "    policy = random_policy(states, actions)\n",
    "    stable = np.repeat(False, len(states))\n",
    "    while True:\n",
    "        V = policy_evaluation(V, states, actions, gamma, theta)\n",
    "        p , stable= policy_improvement(states, policy, actions, terminal, V)\n",
    "        if np.all(stable):\n",
    "            break\n",
    "        else: policy = p\n",
    "    return p, V"
   ]
  },
  {
   "cell_type": "code",
   "execution_count": 8,
   "metadata": {},
   "outputs": [
    {
     "data": {
      "text/plain": [
       "{'[0, 0]': [0, 0],\n",
       " '[0, 1]': [0, -1],\n",
       " '[0, 2]': [0, -1],\n",
       " '[0, 3]': [1, 0],\n",
       " '[1, 0]': [-1, 0],\n",
       " '[1, 1]': [-1, 0],\n",
       " '[1, 2]': [-1, 0],\n",
       " '[1, 3]': [1, 0],\n",
       " '[2, 0]': [-1, 0],\n",
       " '[2, 1]': [0, -1],\n",
       " '[2, 2]': [0, 1],\n",
       " '[2, 3]': [1, 0],\n",
       " '[3, 0]': [-1, 0],\n",
       " '[3, 1]': [0, -1],\n",
       " '[3, 2]': [0, -1],\n",
       " '[3, 3]': [0, 0]}"
      ]
     },
     "execution_count": 8,
     "metadata": {},
     "output_type": "execute_result"
    }
   ],
   "source": [
    "p, v = policy_iteration(gridSize, states, actions, gamma, theta, terminal)\n",
    "p"
   ]
  },
  {
   "cell_type": "code",
   "execution_count": 9,
   "metadata": {},
   "outputs": [
    {
     "data": {
      "image/png": "[encoded data removed]",
      "text/plain": [
       "<Figure size 432x288 with 1 Axes>"
      ]
     },
     "metadata": {},
     "output_type": "display_data"
    }
   ],
   "source": [
    "g = nx.Graph()\n",
    "\n",
    "g.add_nodes_from([\n",
    "    (0, {'reward': 0}),\n",
    "    (1, {'reward': 0}),\n",
    "    (2, {'reward': 0}),\n",
    "    (3, {'reward': 0}),\n",
    "    (4, {'reward': 0}),\n",
    "    (5, {'reward': 0}),\n",
    "    (6, {'reward': 0}),\n",
    "    (7, {'reward': 0}),\n",
    "    (8, {'reward': 0}),\n",
    "])\n",
    "\n",
    "g.add_edges_from([\n",
    "    (0,1, {'value': 0}),\n",
    "    (1,2, {'value': 0}), \n",
    "    (0,3, {'value': 0}), \n",
    "    (3,4, {'value': 0}), \n",
    "    (1,4, {'value': 0}),\n",
    "    (4,5, {'value': 0}),\n",
    "    (2,5, {'value': 0}),\n",
    "    (3,6, {'value': 0}),\n",
    "    (6,7, {'value': 0}), \n",
    "    (4,7, {'value': 0}), \n",
    "    (7,8, {'value': 0}), \n",
    "    (5,8, {'value': 0})])\n",
    "\n",
    "nx.draw(g)\n",
    "plt.show()\n"
   ]
  },
  {
   "cell_type": "code",
   "execution_count": 10,
   "metadata": {},
   "outputs": [],
   "source": [
    "# variables\n",
    "gamma = 0.8\n",
    "gridSize = 3\n",
    "Gterminal = [0, gridSize*gridSize-1]\n",
    "\n",
    "# TODO: change the actions \n",
    "# no more needed, just look at the available edges (I guess)\n",
    "actions = [[-1, 0], [1, 0], [0, 1], [0, -1]]\n",
    "\n",
    "# No more needed (I guess)\n",
    "states = [[i, j] for i in range(gridSize) for j in range(gridSize)]\n",
    "\n",
    "# TODO: chage\n",
    "theta = np.repeat(0.001, 9)"
   ]
  },
  {
   "cell_type": "code",
   "execution_count": 11,
   "metadata": {},
   "outputs": [],
   "source": [
    "# functions definition for graphs\n",
    "def Greward_rules(s, a, terminal):\n",
    "    if s in terminal:\n",
    "        return s, 0\n",
    "    else:\n",
    "        return a[1], -1\n",
    "\n",
    "def Gpolicy_evaluation(g, gamma, theta, terminal):\n",
    "    while True:\n",
    "        v = g.copy()\n",
    "        delta = []\n",
    "        for s in g.nodes:\n",
    "            update = 0\n",
    "            for a in g.edges(s):\n",
    "                new_state, r = Greward_rules(s, a, terminal)\n",
    "                update += (1/len(g.edges(s)))*(r+(gamma*g.nodes[new_state]['reward']))\n",
    "            delta.append(np.abs( v.nodes[s]['reward'] - update))\n",
    "            v.nodes[s]['reward'] = update\n",
    "        g = v.copy()\n",
    "        if np.all(delta < theta):\n",
    "            return g"
   ]
  },
  {
   "cell_type": "code",
   "execution_count": 12,
   "metadata": {},
   "outputs": [
    {
     "name": "stdout",
     "output_type": "stream",
     "text": [
      "{'reward': 0.0}\n",
      "{'reward': -2.6731653832025533}\n",
      "{'reward': -3.138063710716041}\n",
      "{'reward': -2.6731653832025533}\n",
      "{'reward': -3.138063710716041}\n",
      "{'reward': -2.6731653832025537}\n",
      "{'reward': -3.138063710716041}\n",
      "{'reward': -2.6731653832025537}\n",
      "{'reward': 0.0}\n"
     ]
    }
   ],
   "source": [
    "g = Gpolicy_evaluation(g, gamma, theta, Gterminal)\n",
    "for i in range(9):\n",
    "    print(g.nodes[i])"
   ]
  }
 ],
 "metadata": {
  "kernelspec": {
   "display_name": "Python 3",
   "language": "python",
   "name": "python3"
  },
  "language_info": {
   "codemirror_mode": {
    "name": "ipython",
    "version": 3
   },
   "file_extension": ".py",
   "mimetype": "text/x-python",
   "name": "python",
   "nbconvert_exporter": "python",
   "pygments_lexer": "ipython3",
   "version": "3.8.5"
  }
 },
 "nbformat": 4,
 "nbformat_minor": 4
}
