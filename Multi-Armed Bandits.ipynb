{
 "cells": [
  {
   "cell_type": "code",
   "execution_count": 1,
   "metadata": {},
   "outputs": [],
   "source": [
    "import numpy as np\n",
    "import matplotlib.pyplot as plt"
   ]
  },
  {
   "cell_type": "code",
   "execution_count": 2,
   "metadata": {},
   "outputs": [],
   "source": [
    "class Bandit_Algorithm:\n",
    "    def __init__(self, eps, step, arms, q):\n",
    "        self.eps = eps               #epsilon\n",
    "        self.step = step             #timestep\n",
    "        self.arms = arms             #choices every step\n",
    "        self.q = q                   #q_*(a)\n",
    "        self.Q = np.zeros(self.arms) #mean for each arm\n",
    "        self.n = np.zeros(self.arms) #counts each arm\n",
    "        self.counter = 0             #overall counter\n",
    "        self.mean = 0                \n",
    "        self.results = np.zeros(step)\n",
    "        \n",
    "    def run(self):\n",
    "        for i in range(self.step):\n",
    "            prob = np.random.rand()\n",
    "            if prob < self.eps:\n",
    "                a = np.random.randint(self.arms)\n",
    "            else:\n",
    "                a = np.argmax(self.Q)\n",
    "        \n",
    "            reward = np.random.normal(self.q[a],1) # R <- bandit(A)\n",
    "            self.counter += 1\n",
    "            self.n[a] += 1\n",
    "            self.Q[a] = self.Q[a] + (reward - self.Q[a])/self.n[a]     #update arm\n",
    "            self.mean = self.mean + (reward - self.mean)/self.counter  #update total\n",
    "            \n",
    "            self.results[i] = self.mean\n",
    "            "
   ]
  },
  {
   "cell_type": "code",
   "execution_count": 3,
   "metadata": {},
   "outputs": [],
   "source": [
    "q = np.random.normal(0,1, 10)\n",
    "b_1 = np.zeros(1000)\n",
    "b_2 = np.zeros(1000)\n",
    "b_3 = np.zeros(1000)\n",
    "\n",
    "for i in range(1000):\n",
    "    bandit_1 = Bandit_Algorithm(0.1, 1000, 10, q)\n",
    "    bandit_2 = Bandit_Algorithm(0.01, 1000, 10, q)\n",
    "    bandit_3 = Bandit_Algorithm(0, 1000, 10, q)\n",
    "    bandit_1.run()\n",
    "    bandit_2.run()\n",
    "    bandit_3.run()\n",
    "    \n",
    "    b_1 = b_1 + (bandit_1.results - b_1)/(i+1)\n",
    "    b_2 = b_2 + (bandit_2.results - b_2)/(i+1)\n",
    "    b_3 = b_3 + (bandit_3.results - b_3)/(i+1)\n",
    "    "
   ]
  },
  {
   "cell_type": "code",
   "execution_count": 4,
   "metadata": {},
   "outputs": [
    {
     "data": {
      "image/png": "[encoded data removed]",
      "text/plain": [
       "<Figure size 432x288 with 1 Axes>"
      ]
     },
     "metadata": {
      "needs_background": "light"
     },
     "output_type": "display_data"
    }
   ],
   "source": [
    "x_axes = np.linspace(0,1000, 1000)\n",
    "\n",
    "plt.plot(x_axes, b_1, label = 'eps 0.1')\n",
    "plt.plot(x_axes, b_2, label = 'eps 0.01')\n",
    "plt.plot(x_axes, b_3, label = 'eps 0')\n",
    "plt.xlabel(\"Time step\")\n",
    "plt.ylabel(\"Mean reward\")\n",
    "plt.legend()\n",
    "plt.show()"
   ]
  },
  {
   "cell_type": "code",
   "execution_count": 29,
   "metadata": {},
   "outputs": [],
   "source": [
    "class UCB:\n",
    "    def __init__(self, step, arms, q, c):\n",
    "        self.step = step             #timestep\n",
    "        self.arms = arms             #choices every step\n",
    "        self.q = q                   #q_*(a)\n",
    "        self.c = c                   # c contants that controls exploration\n",
    "        self.Q = np.zeros(self.arms) #mean for each arm\n",
    "        self.n = np.ones(self.arms)  #counts each arm\n",
    "        self.counter = 1             #overall counter\n",
    "        self.mean = 0                \n",
    "        self.results = np.zeros(step)\n",
    "        \n",
    "    def run(self):\n",
    "        for i in range(self.step):\n",
    "            a = np.argmax(self.Q + self.c*np.sqrt(np.log(self.counter)/self.n))\n",
    "        \n",
    "            reward = np.random.normal(self.q[a],1) # R <- bandit(A)\n",
    "            self.counter += 1\n",
    "            self.n[a] += 1\n",
    "            self.Q[a] = self.Q[a] + (reward - self.Q[a])/self.n[a]     #update arm\n",
    "            self.mean = self.mean + (reward - self.mean)/self.counter  #update total\n",
    "            \n",
    "            self.results[i] = self.mean\n",
    "            "
   ]
  },
  {
   "cell_type": "code",
   "execution_count": 30,
   "metadata": {},
   "outputs": [],
   "source": [
    "b_1 = np.zeros(1000)\n",
    "b_2 = np.zeros(1000)\n",
    "\n",
    "for i in range(1000):\n",
    "    bandit_1 = Bandit_Algorithm(0.1, 1000, 10, q)\n",
    "    bandit_2 = UCB(1000, 10, q, 2)\n",
    "    bandit_1.run()\n",
    "    bandit_2.run()\n",
    "    \n",
    "    b_1 = b_1 + (bandit_1.results - b_1)/(i+1)\n",
    "    b_2 = b_2 + (bandit_2.results - b_2)/(i+1)"
   ]
  },
  {
   "cell_type": "code",
   "execution_count": 31,
   "metadata": {},
   "outputs": [
    {
     "data": {
      "image/png": "[encoded data removed]",
      "text/plain": [
       "<Figure size 432x288 with 1 Axes>"
      ]
     },
     "metadata": {
      "needs_background": "light"
     },
     "output_type": "display_data"
    }
   ],
   "source": [
    "plt.plot(x_axes, b_1, label = 'eps 0.1')\n",
    "plt.plot(x_axes, b_2, label = 'UCB')\n",
    "plt.xlabel(\"Time step\")\n",
    "plt.ylabel(\"Mean reward\")\n",
    "plt.legend()\n",
    "plt.show()"
   ]
  },
  {
   "cell_type": "code",
   "execution_count": null,
   "metadata": {},
   "outputs": [],
   "source": []
  }
 ],
 "metadata": {
  "kernelspec": {
   "display_name": "Python 3",
   "language": "python",
   "name": "python3"
  },
  "language_info": {
   "codemirror_mode": {
    "name": "ipython",
    "version": 3
   },
   "file_extension": ".py",
   "mimetype": "text/x-python",
   "name": "python",
   "nbconvert_exporter": "python",
   "pygments_lexer": "ipython3",
   "version": "3.8.5"
  }
 },
 "nbformat": 4,
 "nbformat_minor": 4
}
